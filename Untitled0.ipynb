{
  "nbformat": 4,
  "nbformat_minor": 0,
  "metadata": {
    "colab": {
      "name": "Untitled0.ipynb",
      "provenance": [],
      "collapsed_sections": [],
      "authorship_tag": "ABX9TyOfPDUEwuBJZuEMrfJzt9ja",
      "include_colab_link": true
    },
    "kernelspec": {
      "name": "python3",
      "display_name": "Python 3"
    },
    "language_info": {
      "name": "python"
    }
  },
  "cells": [
    {
      "cell_type": "markdown",
      "metadata": {
        "id": "view-in-github",
        "colab_type": "text"
      },
      "source": [
        "<a href=\"https://colab.research.google.com/github/Anga1883/Stata-exercises-done-in-advanced-econometrics-course/blob/main/Untitled0.ipynb\" target=\"_parent\"><img src=\"https://colab.research.google.com/assets/colab-badge.svg\" alt=\"Open In Colab\"/></a>"
      ]
    },
    {
      "cell_type": "code",
      "execution_count": null,
      "metadata": {
        "id": "D_fCOaVSEyt_"
      },
      "outputs": [],
      "source": [
        "import pandas as pd\n"
      ]
    },
    {
      "cell_type": "code",
      "source": [
        "import numpy as np\n"
      ],
      "metadata": {
        "id": "HB_0BOVVzMAP"
      },
      "execution_count": null,
      "outputs": []
    },
    {
      "cell_type": "code",
      "source": [
        " ret=pd.read_csv('/content/30 industry.csv', sep=';', header=0,index_col=0,parse_dates=True)"
      ],
      "metadata": {
        "id": "5VZRLW_T0qwt"
      },
      "execution_count": 80,
      "outputs": []
    },
    {
      "cell_type": "code",
      "source": [
        "ret=ret/100"
      ],
      "metadata": {
        "id": "8KgzyOyVVV73"
      },
      "execution_count": 81,
      "outputs": []
    },
    {
      "cell_type": "code",
      "source": [
        "ret.head()"
      ],
      "metadata": {
        "colab": {
          "base_uri": "https://localhost:8080/",
          "height": 298
        },
        "id": "Ndb1dX_DVa0Q",
        "outputId": "c19533a0-c505-4426-b46f-8a1bd91b372f"
      },
      "execution_count": 82,
      "outputs": [
        {
          "output_type": "execute_result",
          "data": {
            "text/html": [
              "\n",
              "  <div id=\"df-e0b7316c-54f4-4a03-9475-aee1f282e28e\">\n",
              "    <div class=\"colab-df-container\">\n",
              "      <div>\n",
              "<style scoped>\n",
              "    .dataframe tbody tr th:only-of-type {\n",
              "        vertical-align: middle;\n",
              "    }\n",
              "\n",
              "    .dataframe tbody tr th {\n",
              "        vertical-align: top;\n",
              "    }\n",
              "\n",
              "    .dataframe thead th {\n",
              "        text-align: right;\n",
              "    }\n",
              "</style>\n",
              "<table border=\"1\" class=\"dataframe\">\n",
              "  <thead>\n",
              "    <tr style=\"text-align: right;\">\n",
              "      <th></th>\n",
              "      <th>Food</th>\n",
              "      <th>Beer</th>\n",
              "      <th>Smoke</th>\n",
              "      <th>Games</th>\n",
              "      <th>Books</th>\n",
              "      <th>Hshld</th>\n",
              "      <th>Clths</th>\n",
              "      <th>Hlth</th>\n",
              "      <th>Chems</th>\n",
              "      <th>Txtls</th>\n",
              "      <th>Cnstr</th>\n",
              "      <th>Steel</th>\n",
              "      <th>FabPr</th>\n",
              "      <th>ElcEq</th>\n",
              "      <th>Autos</th>\n",
              "      <th>Carry</th>\n",
              "      <th>Mines</th>\n",
              "      <th>Coal</th>\n",
              "      <th>Oil</th>\n",
              "      <th>Util</th>\n",
              "      <th>Telcm</th>\n",
              "      <th>Servs</th>\n",
              "      <th>BusEq</th>\n",
              "      <th>Paper</th>\n",
              "      <th>Trans</th>\n",
              "      <th>Whlsl</th>\n",
              "      <th>Rtail</th>\n",
              "      <th>Meals</th>\n",
              "      <th>Fin</th>\n",
              "      <th>Other</th>\n",
              "    </tr>\n",
              "    <tr>\n",
              "      <th>Date</th>\n",
              "      <th></th>\n",
              "      <th></th>\n",
              "      <th></th>\n",
              "      <th></th>\n",
              "      <th></th>\n",
              "      <th></th>\n",
              "      <th></th>\n",
              "      <th></th>\n",
              "      <th></th>\n",
              "      <th></th>\n",
              "      <th></th>\n",
              "      <th></th>\n",
              "      <th></th>\n",
              "      <th></th>\n",
              "      <th></th>\n",
              "      <th></th>\n",
              "      <th></th>\n",
              "      <th></th>\n",
              "      <th></th>\n",
              "      <th></th>\n",
              "      <th></th>\n",
              "      <th></th>\n",
              "      <th></th>\n",
              "      <th></th>\n",
              "      <th></th>\n",
              "      <th></th>\n",
              "      <th></th>\n",
              "      <th></th>\n",
              "      <th></th>\n",
              "      <th></th>\n",
              "    </tr>\n",
              "  </thead>\n",
              "  <tbody>\n",
              "    <tr>\n",
              "      <th>192607</th>\n",
              "      <td>0.0056</td>\n",
              "      <td>-0.0519</td>\n",
              "      <td>0.0129</td>\n",
              "      <td>0.0293</td>\n",
              "      <td>0.1097</td>\n",
              "      <td>-0.0048</td>\n",
              "      <td>0.0808</td>\n",
              "      <td>0.0177</td>\n",
              "      <td>0.0814</td>\n",
              "      <td>0.0039</td>\n",
              "      <td>0.0207</td>\n",
              "      <td>0.0407</td>\n",
              "      <td>0.0543</td>\n",
              "      <td>0.0318</td>\n",
              "      <td>0.1639</td>\n",
              "      <td>0.0102</td>\n",
              "      <td>0.0564</td>\n",
              "      <td>0.0154</td>\n",
              "      <td>-0.0140</td>\n",
              "      <td>0.0704</td>\n",
              "      <td>0.0083</td>\n",
              "      <td>0.0922</td>\n",
              "      <td>0.0206</td>\n",
              "      <td>0.0770</td>\n",
              "      <td>0.0191</td>\n",
              "      <td>-0.2379</td>\n",
              "      <td>0.0007</td>\n",
              "      <td>0.0187</td>\n",
              "      <td>-0.0002</td>\n",
              "      <td>0.0520</td>\n",
              "    </tr>\n",
              "    <tr>\n",
              "      <th>192608</th>\n",
              "      <td>0.0259</td>\n",
              "      <td>0.2703</td>\n",
              "      <td>0.0650</td>\n",
              "      <td>0.0055</td>\n",
              "      <td>0.1001</td>\n",
              "      <td>-0.0358</td>\n",
              "      <td>-0.0251</td>\n",
              "      <td>0.0425</td>\n",
              "      <td>0.0550</td>\n",
              "      <td>0.0797</td>\n",
              "      <td>0.0472</td>\n",
              "      <td>0.0217</td>\n",
              "      <td>0.0206</td>\n",
              "      <td>0.0210</td>\n",
              "      <td>0.0423</td>\n",
              "      <td>0.0166</td>\n",
              "      <td>0.0055</td>\n",
              "      <td>0.0085</td>\n",
              "      <td>0.0369</td>\n",
              "      <td>-0.0169</td>\n",
              "      <td>0.0217</td>\n",
              "      <td>0.0202</td>\n",
              "      <td>0.0439</td>\n",
              "      <td>-0.0238</td>\n",
              "      <td>0.0485</td>\n",
              "      <td>0.0539</td>\n",
              "      <td>-0.0075</td>\n",
              "      <td>-0.0013</td>\n",
              "      <td>0.0447</td>\n",
              "      <td>0.0676</td>\n",
              "    </tr>\n",
              "    <tr>\n",
              "      <th>192609</th>\n",
              "      <td>0.0116</td>\n",
              "      <td>0.0402</td>\n",
              "      <td>0.0126</td>\n",
              "      <td>0.0658</td>\n",
              "      <td>-0.0099</td>\n",
              "      <td>0.0073</td>\n",
              "      <td>-0.0051</td>\n",
              "      <td>0.0069</td>\n",
              "      <td>0.0533</td>\n",
              "      <td>0.0230</td>\n",
              "      <td>-0.0050</td>\n",
              "      <td>0.0015</td>\n",
              "      <td>0.0036</td>\n",
              "      <td>-0.0056</td>\n",
              "      <td>0.0483</td>\n",
              "      <td>0.0273</td>\n",
              "      <td>0.0174</td>\n",
              "      <td>0.0030</td>\n",
              "      <td>-0.0369</td>\n",
              "      <td>0.0204</td>\n",
              "      <td>0.0241</td>\n",
              "      <td>0.0225</td>\n",
              "      <td>0.0019</td>\n",
              "      <td>-0.0554</td>\n",
              "      <td>0.0007</td>\n",
              "      <td>-0.0787</td>\n",
              "      <td>0.0025</td>\n",
              "      <td>-0.0056</td>\n",
              "      <td>-0.0161</td>\n",
              "      <td>-0.0386</td>\n",
              "    </tr>\n",
              "    <tr>\n",
              "      <th>192610</th>\n",
              "      <td>-0.0306</td>\n",
              "      <td>-0.0331</td>\n",
              "      <td>0.0106</td>\n",
              "      <td>-0.0476</td>\n",
              "      <td>0.0947</td>\n",
              "      <td>-0.0468</td>\n",
              "      <td>0.0012</td>\n",
              "      <td>-0.0057</td>\n",
              "      <td>-0.0476</td>\n",
              "      <td>0.0100</td>\n",
              "      <td>-0.0455</td>\n",
              "      <td>-0.0385</td>\n",
              "      <td>0.0111</td>\n",
              "      <td>-0.0573</td>\n",
              "      <td>-0.0793</td>\n",
              "      <td>-0.0556</td>\n",
              "      <td>-0.0320</td>\n",
              "      <td>0.0223</td>\n",
              "      <td>-0.0104</td>\n",
              "      <td>-0.0263</td>\n",
              "      <td>-0.0011</td>\n",
              "      <td>-0.0200</td>\n",
              "      <td>-0.0109</td>\n",
              "      <td>-0.0508</td>\n",
              "      <td>-0.0261</td>\n",
              "      <td>-0.1538</td>\n",
              "      <td>-0.0220</td>\n",
              "      <td>-0.0411</td>\n",
              "      <td>-0.0551</td>\n",
              "      <td>-0.0849</td>\n",
              "    </tr>\n",
              "    <tr>\n",
              "      <th>192611</th>\n",
              "      <td>0.0635</td>\n",
              "      <td>0.0729</td>\n",
              "      <td>0.0455</td>\n",
              "      <td>0.0166</td>\n",
              "      <td>-0.0580</td>\n",
              "      <td>-0.0054</td>\n",
              "      <td>0.0187</td>\n",
              "      <td>0.0542</td>\n",
              "      <td>0.0520</td>\n",
              "      <td>0.0310</td>\n",
              "      <td>0.0220</td>\n",
              "      <td>0.0386</td>\n",
              "      <td>0.0318</td>\n",
              "      <td>0.0508</td>\n",
              "      <td>-0.0066</td>\n",
              "      <td>0.0787</td>\n",
              "      <td>0.0846</td>\n",
              "      <td>-0.0048</td>\n",
              "      <td>0.0006</td>\n",
              "      <td>0.0371</td>\n",
              "      <td>0.0163</td>\n",
              "      <td>0.0377</td>\n",
              "      <td>0.0364</td>\n",
              "      <td>0.0384</td>\n",
              "      <td>0.0161</td>\n",
              "      <td>0.0467</td>\n",
              "      <td>0.0652</td>\n",
              "      <td>0.0433</td>\n",
              "      <td>0.0234</td>\n",
              "      <td>0.0400</td>\n",
              "    </tr>\n",
              "  </tbody>\n",
              "</table>\n",
              "</div>\n",
              "      <button class=\"colab-df-convert\" onclick=\"convertToInteractive('df-e0b7316c-54f4-4a03-9475-aee1f282e28e')\"\n",
              "              title=\"Convert this dataframe to an interactive table.\"\n",
              "              style=\"display:none;\">\n",
              "        \n",
              "  <svg xmlns=\"http://www.w3.org/2000/svg\" height=\"24px\"viewBox=\"0 0 24 24\"\n",
              "       width=\"24px\">\n",
              "    <path d=\"M0 0h24v24H0V0z\" fill=\"none\"/>\n",
              "    <path d=\"M18.56 5.44l.94 2.06.94-2.06 2.06-.94-2.06-.94-.94-2.06-.94 2.06-2.06.94zm-11 1L8.5 8.5l.94-2.06 2.06-.94-2.06-.94L8.5 2.5l-.94 2.06-2.06.94zm10 10l.94 2.06.94-2.06 2.06-.94-2.06-.94-.94-2.06-.94 2.06-2.06.94z\"/><path d=\"M17.41 7.96l-1.37-1.37c-.4-.4-.92-.59-1.43-.59-.52 0-1.04.2-1.43.59L10.3 9.45l-7.72 7.72c-.78.78-.78 2.05 0 2.83L4 21.41c.39.39.9.59 1.41.59.51 0 1.02-.2 1.41-.59l7.78-7.78 2.81-2.81c.8-.78.8-2.07 0-2.86zM5.41 20L4 18.59l7.72-7.72 1.47 1.35L5.41 20z\"/>\n",
              "  </svg>\n",
              "      </button>\n",
              "      \n",
              "  <style>\n",
              "    .colab-df-container {\n",
              "      display:flex;\n",
              "      flex-wrap:wrap;\n",
              "      gap: 12px;\n",
              "    }\n",
              "\n",
              "    .colab-df-convert {\n",
              "      background-color: #E8F0FE;\n",
              "      border: none;\n",
              "      border-radius: 50%;\n",
              "      cursor: pointer;\n",
              "      display: none;\n",
              "      fill: #1967D2;\n",
              "      height: 32px;\n",
              "      padding: 0 0 0 0;\n",
              "      width: 32px;\n",
              "    }\n",
              "\n",
              "    .colab-df-convert:hover {\n",
              "      background-color: #E2EBFA;\n",
              "      box-shadow: 0px 1px 2px rgba(60, 64, 67, 0.3), 0px 1px 3px 1px rgba(60, 64, 67, 0.15);\n",
              "      fill: #174EA6;\n",
              "    }\n",
              "\n",
              "    [theme=dark] .colab-df-convert {\n",
              "      background-color: #3B4455;\n",
              "      fill: #D2E3FC;\n",
              "    }\n",
              "\n",
              "    [theme=dark] .colab-df-convert:hover {\n",
              "      background-color: #434B5C;\n",
              "      box-shadow: 0px 1px 3px 1px rgba(0, 0, 0, 0.15);\n",
              "      filter: drop-shadow(0px 1px 2px rgba(0, 0, 0, 0.3));\n",
              "      fill: #FFFFFF;\n",
              "    }\n",
              "  </style>\n",
              "\n",
              "      <script>\n",
              "        const buttonEl =\n",
              "          document.querySelector('#df-e0b7316c-54f4-4a03-9475-aee1f282e28e button.colab-df-convert');\n",
              "        buttonEl.style.display =\n",
              "          google.colab.kernel.accessAllowed ? 'block' : 'none';\n",
              "\n",
              "        async function convertToInteractive(key) {\n",
              "          const element = document.querySelector('#df-e0b7316c-54f4-4a03-9475-aee1f282e28e');\n",
              "          const dataTable =\n",
              "            await google.colab.kernel.invokeFunction('convertToInteractive',\n",
              "                                                     [key], {});\n",
              "          if (!dataTable) return;\n",
              "\n",
              "          const docLinkHtml = 'Like what you see? Visit the ' +\n",
              "            '<a target=\"_blank\" href=https://colab.research.google.com/notebooks/data_table.ipynb>data table notebook</a>'\n",
              "            + ' to learn more about interactive tables.';\n",
              "          element.innerHTML = '';\n",
              "          dataTable['output_type'] = 'display_data';\n",
              "          await google.colab.output.renderOutput(dataTable, element);\n",
              "          const docLink = document.createElement('div');\n",
              "          docLink.innerHTML = docLinkHtml;\n",
              "          element.appendChild(docLink);\n",
              "        }\n",
              "      </script>\n",
              "    </div>\n",
              "  </div>\n",
              "  "
            ],
            "text/plain": [
              "         Food    Beer    Smoke   Games  ...   Rtail   Meals   Fin     Other\n",
              "Date                                    ...                                \n",
              "192607  0.0056 -0.0519  0.0129  0.0293  ...  0.0007  0.0187 -0.0002  0.0520\n",
              "192608  0.0259  0.2703  0.0650  0.0055  ... -0.0075 -0.0013  0.0447  0.0676\n",
              "192609  0.0116  0.0402  0.0126  0.0658  ...  0.0025 -0.0056 -0.0161 -0.0386\n",
              "192610 -0.0306 -0.0331  0.0106 -0.0476  ... -0.0220 -0.0411 -0.0551 -0.0849\n",
              "192611  0.0635  0.0729  0.0455  0.0166  ...  0.0652  0.0433  0.0234  0.0400\n",
              "\n",
              "[5 rows x 30 columns]"
            ]
          },
          "metadata": {},
          "execution_count": 82
        }
      ]
    },
    {
      "cell_type": "code",
      "source": [
        "ret.var()"
      ],
      "metadata": {
        "colab": {
          "base_uri": "https://localhost:8080/"
        },
        "id": "gr88b0L5VfWk",
        "outputId": "26d073aa-dd57-4930-e293-56dbc336ee18"
      },
      "execution_count": 83,
      "outputs": [
        {
          "output_type": "execute_result",
          "data": {
            "text/plain": [
              "Food     0.002233\n",
              "Beer     0.005075\n",
              "Smoke    0.003388\n",
              "Games    0.007878\n",
              "Books    0.005154\n",
              "Hshld    0.003323\n",
              "Clths    0.003763\n",
              "Hlth     0.003058\n",
              "Chems    0.003982\n",
              "Txtls    0.006057\n",
              "Cnstr    0.004783\n",
              "Steel    0.007233\n",
              "FabPr    0.005187\n",
              "ElcEq    0.005762\n",
              "Autos    0.006816\n",
              "Carry    0.005867\n",
              "Mines    0.005313\n",
              "Coal     0.012000\n",
              "Oil      0.004036\n",
              "Util     0.002998\n",
              "Telcm    0.002118\n",
              "Servs    0.006795\n",
              "BusEq    0.004543\n",
              "Paper    0.003429\n",
              "Trans    0.004998\n",
              "Whlsl    0.005307\n",
              "Rtail    0.003536\n",
              "Meals    0.004201\n",
              "Fin      0.004576\n",
              "Other    0.004532\n",
              "dtype: float64"
            ]
          },
          "metadata": {},
          "execution_count": 83
        }
      ]
    },
    {
      "cell_type": "code",
      "source": [
        "ret.mean()"
      ],
      "metadata": {
        "colab": {
          "base_uri": "https://localhost:8080/"
        },
        "id": "q4dXdlNYW1wF",
        "outputId": "8dcecfa6-9f4c-4993-aa8c-f17ffa21fd08"
      },
      "execution_count": 84,
      "outputs": [
        {
          "output_type": "execute_result",
          "data": {
            "text/plain": [
              "Food     0.009678\n",
              "Beer     0.012033\n",
              "Smoke    0.011383\n",
              "Games    0.011562\n",
              "Books    0.009258\n",
              "Hshld    0.009463\n",
              "Clths    0.009699\n",
              "Hlth     0.010948\n",
              "Chems    0.010632\n",
              "Txtls    0.009809\n",
              "Cnstr    0.009862\n",
              "Steel    0.009390\n",
              "FabPr    0.010929\n",
              "ElcEq    0.011908\n",
              "Autos    0.012130\n",
              "Carry    0.011260\n",
              "Mines    0.009342\n",
              "Coal     0.010331\n",
              "Oil      0.010060\n",
              "Util     0.008844\n",
              "Telcm    0.008529\n",
              "Servs    0.012561\n",
              "BusEq    0.011955\n",
              "Paper    0.010112\n",
              "Trans    0.009428\n",
              "Whlsl    0.008478\n",
              "Rtail    0.010693\n",
              "Meals    0.010884\n",
              "Fin      0.010265\n",
              "Other    0.007981\n",
              "dtype: float64"
            ]
          },
          "metadata": {},
          "execution_count": 84
        }
      ]
    },
    {
      "cell_type": "code",
      "source": [
        "ret.std()"
      ],
      "metadata": {
        "colab": {
          "base_uri": "https://localhost:8080/"
        },
        "id": "XoThfTN5XRtU",
        "outputId": "feeef3af-978c-47f1-b56c-b281c6a3d1e4"
      },
      "execution_count": 85,
      "outputs": [
        {
          "output_type": "execute_result",
          "data": {
            "text/plain": [
              "Food     0.047251\n",
              "Beer     0.071238\n",
              "Smoke    0.058207\n",
              "Games    0.088756\n",
              "Books    0.071793\n",
              "Hshld    0.057644\n",
              "Clths    0.061342\n",
              "Hlth     0.055304\n",
              "Chems    0.063102\n",
              "Txtls    0.077827\n",
              "Cnstr    0.069162\n",
              "Steel    0.085047\n",
              "FabPr    0.072024\n",
              "ElcEq    0.075908\n",
              "Autos    0.082558\n",
              "Carry    0.076597\n",
              "Mines    0.072892\n",
              "Coal     0.109543\n",
              "Oil      0.063531\n",
              "Util     0.054756\n",
              "Telcm    0.046023\n",
              "Servs    0.082431\n",
              "BusEq    0.067402\n",
              "Paper    0.058553\n",
              "Trans    0.070695\n",
              "Whlsl    0.072847\n",
              "Rtail    0.059467\n",
              "Meals    0.064815\n",
              "Fin      0.067644\n",
              "Other    0.067320\n",
              "dtype: float64"
            ]
          },
          "metadata": {},
          "execution_count": 85
        }
      ]
    },
    {
      "cell_type": "code",
      "source": [
        "np.sqrt(12)"
      ],
      "metadata": {
        "colab": {
          "base_uri": "https://localhost:8080/"
        },
        "id": "KckW8Q_qXXs2",
        "outputId": "078de8ac-641d-4ccf-a256-e92292a79f73"
      },
      "execution_count": 86,
      "outputs": [
        {
          "output_type": "execute_result",
          "data": {
            "text/plain": [
              "3.4641016151377544"
            ]
          },
          "metadata": {},
          "execution_count": 86
        }
      ]
    },
    {
      "cell_type": "code",
      "source": [
        "ret.var()*12 # Annualized Variance"
      ],
      "metadata": {
        "colab": {
          "base_uri": "https://localhost:8080/"
        },
        "id": "3klKsKxiXd_a",
        "outputId": "90c938e3-95c7-4b3b-f18e-a81ecc7da007"
      },
      "execution_count": 87,
      "outputs": [
        {
          "output_type": "execute_result",
          "data": {
            "text/plain": [
              "Food     0.026792\n",
              "Beer     0.060898\n",
              "Smoke    0.040656\n",
              "Games    0.094531\n",
              "Books    0.061851\n",
              "Hshld    0.039873\n",
              "Clths    0.045154\n",
              "Hlth     0.036702\n",
              "Chems    0.047782\n",
              "Txtls    0.072684\n",
              "Cnstr    0.057401\n",
              "Steel    0.086795\n",
              "FabPr    0.062250\n",
              "ElcEq    0.069144\n",
              "Autos    0.081791\n",
              "Carry    0.070405\n",
              "Mines    0.063760\n",
              "Coal     0.143996\n",
              "Oil      0.048434\n",
              "Util     0.035979\n",
              "Telcm    0.025417\n",
              "Servs    0.081538\n",
              "BusEq    0.054517\n",
              "Paper    0.041142\n",
              "Trans    0.059973\n",
              "Whlsl    0.063680\n",
              "Rtail    0.042436\n",
              "Meals    0.050411\n",
              "Fin      0.054909\n",
              "Other    0.054383\n",
              "dtype: float64"
            ]
          },
          "metadata": {},
          "execution_count": 87
        }
      ]
    },
    {
      "cell_type": "code",
      "source": [
        "Annualized_volatility=ret.std()*np.sqrt(12)"
      ],
      "metadata": {
        "id": "LYBL9Q1UXoru"
      },
      "execution_count": 88,
      "outputs": []
    },
    {
      "cell_type": "code",
      "source": [
        "Annualized_volatility"
      ],
      "metadata": {
        "colab": {
          "base_uri": "https://localhost:8080/"
        },
        "id": "j_YYW3qMX554",
        "outputId": "a2c54698-278b-480b-c42a-2397f79b96ba"
      },
      "execution_count": 89,
      "outputs": [
        {
          "output_type": "execute_result",
          "data": {
            "text/plain": [
              "Food     0.163681\n",
              "Beer     0.246775\n",
              "Smoke    0.201633\n",
              "Games    0.307460\n",
              "Books    0.248698\n",
              "Hshld    0.199683\n",
              "Clths    0.212495\n",
              "Hlth     0.191577\n",
              "Chems    0.218591\n",
              "Txtls    0.269600\n",
              "Cnstr    0.239584\n",
              "Steel    0.294610\n",
              "FabPr    0.249499\n",
              "ElcEq    0.262952\n",
              "Autos    0.285991\n",
              "Carry    0.265339\n",
              "Mines    0.252507\n",
              "Coal     0.379467\n",
              "Oil      0.220076\n",
              "Util     0.189682\n",
              "Telcm    0.159429\n",
              "Servs    0.285549\n",
              "BusEq    0.233489\n",
              "Paper    0.202835\n",
              "Trans    0.244895\n",
              "Whlsl    0.252349\n",
              "Rtail    0.206001\n",
              "Meals    0.224524\n",
              "Fin      0.234326\n",
              "Other    0.233203\n",
              "dtype: float64"
            ]
          },
          "metadata": {},
          "execution_count": 89
        }
      ]
    },
    {
      "cell_type": "code",
      "source": [
        "ret.mean()"
      ],
      "metadata": {
        "colab": {
          "base_uri": "https://localhost:8080/"
        },
        "id": "TzpqWva0YCAn",
        "outputId": "f4fac2fc-8d3c-475c-fe68-607a4ae3f841"
      },
      "execution_count": 90,
      "outputs": [
        {
          "output_type": "execute_result",
          "data": {
            "text/plain": [
              "Food     0.009678\n",
              "Beer     0.012033\n",
              "Smoke    0.011383\n",
              "Games    0.011562\n",
              "Books    0.009258\n",
              "Hshld    0.009463\n",
              "Clths    0.009699\n",
              "Hlth     0.010948\n",
              "Chems    0.010632\n",
              "Txtls    0.009809\n",
              "Cnstr    0.009862\n",
              "Steel    0.009390\n",
              "FabPr    0.010929\n",
              "ElcEq    0.011908\n",
              "Autos    0.012130\n",
              "Carry    0.011260\n",
              "Mines    0.009342\n",
              "Coal     0.010331\n",
              "Oil      0.010060\n",
              "Util     0.008844\n",
              "Telcm    0.008529\n",
              "Servs    0.012561\n",
              "BusEq    0.011955\n",
              "Paper    0.010112\n",
              "Trans    0.009428\n",
              "Whlsl    0.008478\n",
              "Rtail    0.010693\n",
              "Meals    0.010884\n",
              "Fin      0.010265\n",
              "Other    0.007981\n",
              "dtype: float64"
            ]
          },
          "metadata": {},
          "execution_count": 90
        }
      ]
    },
    {
      "cell_type": "code",
      "source": [
        "ret.shape"
      ],
      "metadata": {
        "colab": {
          "base_uri": "https://localhost:8080/"
        },
        "id": "kTiYW5gudff6",
        "outputId": "e735f522-c6fd-4f87-a467-97d1dd4695c9"
      },
      "execution_count": 95,
      "outputs": [
        {
          "output_type": "execute_result",
          "data": {
            "text/plain": [
              "(1146, 30)"
            ]
          },
          "metadata": {},
          "execution_count": 95
        }
      ]
    },
    {
      "cell_type": "code",
      "source": [
        "n_months=ret.shape[0]"
      ],
      "metadata": {
        "id": "7SYnxDeneCPY"
      },
      "execution_count": 96,
      "outputs": []
    },
    {
      "cell_type": "code",
      "source": [
        "n_months"
      ],
      "metadata": {
        "colab": {
          "base_uri": "https://localhost:8080/"
        },
        "id": "a8s09rodeS5P",
        "outputId": "30a49201-6fdd-4cdb-94cf-b706c99cc41c"
      },
      "execution_count": 97,
      "outputs": [
        {
          "output_type": "execute_result",
          "data": {
            "text/plain": [
              "1146"
            ]
          },
          "metadata": {},
          "execution_count": 97
        }
      ]
    },
    {
      "cell_type": "code",
      "source": [
        "annualized_return=(1+ret).prod()**(12/n_months)-1"
      ],
      "metadata": {
        "id": "vD8M0obTeXfI"
      },
      "execution_count": 98,
      "outputs": []
    },
    {
      "cell_type": "code",
      "source": [
        "annualized_return"
      ],
      "metadata": {
        "colab": {
          "base_uri": "https://localhost:8080/"
        },
        "id": "a82Du6_Zep1r",
        "outputId": "60763d49-f24a-4603-f467-917d91bb5a34"
      },
      "execution_count": 99,
      "outputs": [
        {
          "output_type": "execute_result",
          "data": {
            "text/plain": [
              "Food     0.107754\n",
              "Beer     0.121864\n",
              "Smoke    0.122741\n",
              "Games    0.095877\n",
              "Books    0.083593\n",
              "Hshld    0.097789\n",
              "Clths    0.098178\n",
              "Hlth     0.119094\n",
              "Chems    0.108937\n",
              "Txtls    0.085326\n",
              "Cnstr    0.093516\n",
              "Steel    0.073308\n",
              "FabPr    0.105032\n",
              "ElcEq    0.114358\n",
              "Autos    0.111682\n",
              "Carry    0.105013\n",
              "Mines    0.083300\n",
              "Coal     0.058520\n",
              "Oil      0.101077\n",
              "Util     0.091725\n",
              "Telcm    0.093451\n",
              "Servs    0.116397\n",
              "BusEq    0.122282\n",
              "Paper    0.105747\n",
              "Trans    0.087286\n",
              "Whlsl    0.072333\n",
              "Rtail    0.112477\n",
              "Meals    0.110210\n",
              "Fin      0.100191\n",
              "Other    0.070939\n",
              "dtype: float64"
            ]
          },
          "metadata": {},
          "execution_count": 99
        }
      ]
    },
    {
      "cell_type": "code",
      "source": [
        "risk_free_rate=(0.02) # the rsk free rate chosen is 2%"
      ],
      "metadata": {
        "id": "qfmW9F4Deuz4"
      },
      "execution_count": 100,
      "outputs": []
    },
    {
      "cell_type": "code",
      "source": [
        "sharpe_ratio=(annualized_return-risk_free_rate)/Annualized_volatility"
      ],
      "metadata": {
        "id": "NdaPJw69fNv_"
      },
      "execution_count": 101,
      "outputs": []
    },
    {
      "cell_type": "code",
      "source": [
        "sharpe_ratio"
      ],
      "metadata": {
        "colab": {
          "base_uri": "https://localhost:8080/"
        },
        "id": "Xl0RYzGlfbsm",
        "outputId": "6affac71-4c17-41c0-e216-959a442becb1"
      },
      "execution_count": 102,
      "outputs": [
        {
          "output_type": "execute_result",
          "data": {
            "text/plain": [
              "Food     0.536126\n",
              "Beer     0.412781\n",
              "Smoke    0.509545\n",
              "Games    0.246786\n",
              "Books    0.255705\n",
              "Hshld    0.389562\n",
              "Clths    0.367903\n",
              "Hlth     0.517255\n",
              "Chems    0.406864\n",
              "Txtls    0.242308\n",
              "Cnstr    0.306848\n",
              "Steel    0.180944\n",
              "FabPr    0.340811\n",
              "ElcEq    0.358841\n",
              "Autos    0.320577\n",
              "Carry    0.320394\n",
              "Mines    0.250687\n",
              "Coal     0.101511\n",
              "Oil      0.368405\n",
              "Util     0.378131\n",
              "Telcm    0.460712\n",
              "Servs    0.337584\n",
              "BusEq    0.438059\n",
              "Paper    0.422743\n",
              "Trans    0.274755\n",
              "Whlsl    0.207385\n",
              "Rtail    0.448915\n",
              "Meals    0.401783\n",
              "Fin      0.342220\n",
              "Other    0.218432\n",
              "dtype: float64"
            ]
          },
          "metadata": {},
          "execution_count": 102
        }
      ]
    },
    {
      "cell_type": "markdown",
      "source": [
        "Food is the industry with highest sharpe ratio"
      ],
      "metadata": {
        "id": "Af_C-hd-foJ0"
      }
    },
    {
      "cell_type": "code",
      "source": [
        ""
      ],
      "metadata": {
        "id": "BlvNIdvAfvWw"
      },
      "execution_count": null,
      "outputs": []
    },
    {
      "cell_type": "markdown",
      "source": [
        "Portfolio (Main, Coal, Oil)"
      ],
      "metadata": {
        "id": "X37fVGY1f6lM"
      }
    },
    {
      "cell_type": "code",
      "source": [
        "columns=['Mines','Coal ','Oil  ']"
      ],
      "metadata": {
        "id": "daWStuBwgC_W"
      },
      "execution_count": 111,
      "outputs": []
    },
    {
      "cell_type": "code",
      "source": [
        "ret_Mines_Coal_Oil=ret[columns]"
      ],
      "metadata": {
        "id": "g4o1PjwSgWkP"
      },
      "execution_count": 112,
      "outputs": []
    },
    {
      "cell_type": "code",
      "source": [
        "ret_Mines_Coal_Oil"
      ],
      "metadata": {
        "colab": {
          "base_uri": "https://localhost:8080/",
          "height": 447
        },
        "id": "SIC65JSvgjP1",
        "outputId": "295cd0df-eba9-4889-bad0-48879a705442"
      },
      "execution_count": 113,
      "outputs": [
        {
          "output_type": "execute_result",
          "data": {
            "text/html": [
              "\n",
              "  <div id=\"df-633990c0-9e48-423b-ab52-78360ef966c0\">\n",
              "    <div class=\"colab-df-container\">\n",
              "      <div>\n",
              "<style scoped>\n",
              "    .dataframe tbody tr th:only-of-type {\n",
              "        vertical-align: middle;\n",
              "    }\n",
              "\n",
              "    .dataframe tbody tr th {\n",
              "        vertical-align: top;\n",
              "    }\n",
              "\n",
              "    .dataframe thead th {\n",
              "        text-align: right;\n",
              "    }\n",
              "</style>\n",
              "<table border=\"1\" class=\"dataframe\">\n",
              "  <thead>\n",
              "    <tr style=\"text-align: right;\">\n",
              "      <th></th>\n",
              "      <th>Mines</th>\n",
              "      <th>Coal</th>\n",
              "      <th>Oil</th>\n",
              "    </tr>\n",
              "    <tr>\n",
              "      <th>Date</th>\n",
              "      <th></th>\n",
              "      <th></th>\n",
              "      <th></th>\n",
              "    </tr>\n",
              "  </thead>\n",
              "  <tbody>\n",
              "    <tr>\n",
              "      <th>192607</th>\n",
              "      <td>0.0564</td>\n",
              "      <td>0.0154</td>\n",
              "      <td>-0.0140</td>\n",
              "    </tr>\n",
              "    <tr>\n",
              "      <th>192608</th>\n",
              "      <td>0.0055</td>\n",
              "      <td>0.0085</td>\n",
              "      <td>0.0369</td>\n",
              "    </tr>\n",
              "    <tr>\n",
              "      <th>192609</th>\n",
              "      <td>0.0174</td>\n",
              "      <td>0.0030</td>\n",
              "      <td>-0.0369</td>\n",
              "    </tr>\n",
              "    <tr>\n",
              "      <th>192610</th>\n",
              "      <td>-0.0320</td>\n",
              "      <td>0.0223</td>\n",
              "      <td>-0.0104</td>\n",
              "    </tr>\n",
              "    <tr>\n",
              "      <th>192611</th>\n",
              "      <td>0.0846</td>\n",
              "      <td>-0.0048</td>\n",
              "      <td>0.0006</td>\n",
              "    </tr>\n",
              "    <tr>\n",
              "      <th>...</th>\n",
              "      <td>...</td>\n",
              "      <td>...</td>\n",
              "      <td>...</td>\n",
              "    </tr>\n",
              "    <tr>\n",
              "      <th>202108</th>\n",
              "      <td>-0.0295</td>\n",
              "      <td>0.2255</td>\n",
              "      <td>-0.0155</td>\n",
              "    </tr>\n",
              "    <tr>\n",
              "      <th>202109</th>\n",
              "      <td>-0.0901</td>\n",
              "      <td>0.1106</td>\n",
              "      <td>0.1083</td>\n",
              "    </tr>\n",
              "    <tr>\n",
              "      <th>202110</th>\n",
              "      <td>0.0906</td>\n",
              "      <td>0.0445</td>\n",
              "      <td>0.1027</td>\n",
              "    </tr>\n",
              "    <tr>\n",
              "      <th>202111</th>\n",
              "      <td>-0.0029</td>\n",
              "      <td>-0.1857</td>\n",
              "      <td>-0.0545</td>\n",
              "    </tr>\n",
              "    <tr>\n",
              "      <th>202112</th>\n",
              "      <td>0.0939</td>\n",
              "      <td>0.1452</td>\n",
              "      <td>0.0294</td>\n",
              "    </tr>\n",
              "  </tbody>\n",
              "</table>\n",
              "<p>1146 rows × 3 columns</p>\n",
              "</div>\n",
              "      <button class=\"colab-df-convert\" onclick=\"convertToInteractive('df-633990c0-9e48-423b-ab52-78360ef966c0')\"\n",
              "              title=\"Convert this dataframe to an interactive table.\"\n",
              "              style=\"display:none;\">\n",
              "        \n",
              "  <svg xmlns=\"http://www.w3.org/2000/svg\" height=\"24px\"viewBox=\"0 0 24 24\"\n",
              "       width=\"24px\">\n",
              "    <path d=\"M0 0h24v24H0V0z\" fill=\"none\"/>\n",
              "    <path d=\"M18.56 5.44l.94 2.06.94-2.06 2.06-.94-2.06-.94-.94-2.06-.94 2.06-2.06.94zm-11 1L8.5 8.5l.94-2.06 2.06-.94-2.06-.94L8.5 2.5l-.94 2.06-2.06.94zm10 10l.94 2.06.94-2.06 2.06-.94-2.06-.94-.94-2.06-.94 2.06-2.06.94z\"/><path d=\"M17.41 7.96l-1.37-1.37c-.4-.4-.92-.59-1.43-.59-.52 0-1.04.2-1.43.59L10.3 9.45l-7.72 7.72c-.78.78-.78 2.05 0 2.83L4 21.41c.39.39.9.59 1.41.59.51 0 1.02-.2 1.41-.59l7.78-7.78 2.81-2.81c.8-.78.8-2.07 0-2.86zM5.41 20L4 18.59l7.72-7.72 1.47 1.35L5.41 20z\"/>\n",
              "  </svg>\n",
              "      </button>\n",
              "      \n",
              "  <style>\n",
              "    .colab-df-container {\n",
              "      display:flex;\n",
              "      flex-wrap:wrap;\n",
              "      gap: 12px;\n",
              "    }\n",
              "\n",
              "    .colab-df-convert {\n",
              "      background-color: #E8F0FE;\n",
              "      border: none;\n",
              "      border-radius: 50%;\n",
              "      cursor: pointer;\n",
              "      display: none;\n",
              "      fill: #1967D2;\n",
              "      height: 32px;\n",
              "      padding: 0 0 0 0;\n",
              "      width: 32px;\n",
              "    }\n",
              "\n",
              "    .colab-df-convert:hover {\n",
              "      background-color: #E2EBFA;\n",
              "      box-shadow: 0px 1px 2px rgba(60, 64, 67, 0.3), 0px 1px 3px 1px rgba(60, 64, 67, 0.15);\n",
              "      fill: #174EA6;\n",
              "    }\n",
              "\n",
              "    [theme=dark] .colab-df-convert {\n",
              "      background-color: #3B4455;\n",
              "      fill: #D2E3FC;\n",
              "    }\n",
              "\n",
              "    [theme=dark] .colab-df-convert:hover {\n",
              "      background-color: #434B5C;\n",
              "      box-shadow: 0px 1px 3px 1px rgba(0, 0, 0, 0.15);\n",
              "      filter: drop-shadow(0px 1px 2px rgba(0, 0, 0, 0.3));\n",
              "      fill: #FFFFFF;\n",
              "    }\n",
              "  </style>\n",
              "\n",
              "      <script>\n",
              "        const buttonEl =\n",
              "          document.querySelector('#df-633990c0-9e48-423b-ab52-78360ef966c0 button.colab-df-convert');\n",
              "        buttonEl.style.display =\n",
              "          google.colab.kernel.accessAllowed ? 'block' : 'none';\n",
              "\n",
              "        async function convertToInteractive(key) {\n",
              "          const element = document.querySelector('#df-633990c0-9e48-423b-ab52-78360ef966c0');\n",
              "          const dataTable =\n",
              "            await google.colab.kernel.invokeFunction('convertToInteractive',\n",
              "                                                     [key], {});\n",
              "          if (!dataTable) return;\n",
              "\n",
              "          const docLinkHtml = 'Like what you see? Visit the ' +\n",
              "            '<a target=\"_blank\" href=https://colab.research.google.com/notebooks/data_table.ipynb>data table notebook</a>'\n",
              "            + ' to learn more about interactive tables.';\n",
              "          element.innerHTML = '';\n",
              "          dataTable['output_type'] = 'display_data';\n",
              "          await google.colab.output.renderOutput(dataTable, element);\n",
              "          const docLink = document.createElement('div');\n",
              "          docLink.innerHTML = docLinkHtml;\n",
              "          element.appendChild(docLink);\n",
              "        }\n",
              "      </script>\n",
              "    </div>\n",
              "  </div>\n",
              "  "
            ],
            "text/plain": [
              "         Mines   Coal    Oil  \n",
              "Date                          \n",
              "192607  0.0564  0.0154 -0.0140\n",
              "192608  0.0055  0.0085  0.0369\n",
              "192609  0.0174  0.0030 -0.0369\n",
              "192610 -0.0320  0.0223 -0.0104\n",
              "192611  0.0846 -0.0048  0.0006\n",
              "...        ...     ...     ...\n",
              "202108 -0.0295  0.2255 -0.0155\n",
              "202109 -0.0901  0.1106  0.1083\n",
              "202110  0.0906  0.0445  0.1027\n",
              "202111 -0.0029 -0.1857 -0.0545\n",
              "202112  0.0939  0.1452  0.0294\n",
              "\n",
              "[1146 rows x 3 columns]"
            ]
          },
          "metadata": {},
          "execution_count": 113
        }
      ]
    },
    {
      "cell_type": "code",
      "source": [
        "cov_matrix_MCO=(ret_Mines_Coal_Oil.cov())*12   ### Annualized Volatility"
      ],
      "metadata": {
        "id": "Bqk3g0hMhF5N"
      },
      "execution_count": 114,
      "outputs": []
    },
    {
      "cell_type": "code",
      "source": [
        "print (cov_matrix_MCO)"
      ],
      "metadata": {
        "colab": {
          "base_uri": "https://localhost:8080/"
        },
        "id": "qBczwqEEhgVt",
        "outputId": "2b4b9dd6-0d2b-41ec-8c66-37ac6f2d5657"
      },
      "execution_count": 115,
      "outputs": [
        {
          "output_type": "stream",
          "name": "stdout",
          "text": [
            "          Mines     Coal      Oil  \n",
            "Mines  0.063760  0.053878  0.034791\n",
            "Coal   0.053878  0.143996  0.049392\n",
            "Oil    0.034791  0.049392  0.048434\n"
          ]
        }
      ]
    },
    {
      "cell_type": "code",
      "source": [
        "weights=np.array([1/3, 1/3, 1/3])"
      ],
      "metadata": {
        "id": "2xCPfaEbhkc1"
      },
      "execution_count": 117,
      "outputs": []
    },
    {
      "cell_type": "code",
      "source": [
        "portfolio_variance=np.dot(weights.T, np.dot(cov_matrix_MCO, weights))"
      ],
      "metadata": {
        "id": "zgfpozRvh2uD"
      },
      "execution_count": 118,
      "outputs": []
    },
    {
      "cell_type": "code",
      "source": [
        "print (portfolio_variance)"
      ],
      "metadata": {
        "colab": {
          "base_uri": "https://localhost:8080/"
        },
        "id": "wpw_y0S_iSOh",
        "outputId": "79795ffe-c122-45dc-cd94-c349b0299e92"
      },
      "execution_count": 119,
      "outputs": [
        {
          "output_type": "stream",
          "name": "stdout",
          "text": [
            "0.05914564273991937\n"
          ]
        }
      ]
    },
    {
      "cell_type": "code",
      "source": [
        "portfolio_volatility=np.sqrt(portfolio_variance)"
      ],
      "metadata": {
        "id": "_u2DVtafiWes"
      },
      "execution_count": 124,
      "outputs": []
    },
    {
      "cell_type": "code",
      "source": [
        "print (portfolio_volatility)"
      ],
      "metadata": {
        "colab": {
          "base_uri": "https://localhost:8080/"
        },
        "id": "gPmoqqOwjZz9",
        "outputId": "fe838bb0-ab5d-42ea-90b4-79911c5c7a1a"
      },
      "execution_count": 125,
      "outputs": [
        {
          "output_type": "stream",
          "name": "stdout",
          "text": [
            "0.24319877207732643\n"
          ]
        }
      ]
    },
    {
      "cell_type": "code",
      "source": [
        "mean_monthly_returns=ret_Mines_Coal_Oil.mean()"
      ],
      "metadata": {
        "id": "KDvMbBPqkHFA"
      },
      "execution_count": 126,
      "outputs": []
    },
    {
      "cell_type": "code",
      "source": [
        "mean_monthly_returns['Portfolio']=mean_monthly_returns.dot(weights)"
      ],
      "metadata": {
        "id": "6VTqD4_ekdCA"
      },
      "execution_count": 128,
      "outputs": []
    },
    {
      "cell_type": "code",
      "source": [
        "mean_monthly_returns.head()"
      ],
      "metadata": {
        "colab": {
          "base_uri": "https://localhost:8080/"
        },
        "id": "5zhA1Zgdky8R",
        "outputId": "27446b87-f1e7-4aa8-9b26-8ecb4bb1adca"
      },
      "execution_count": 133,
      "outputs": [
        {
          "output_type": "execute_result",
          "data": {
            "text/plain": [
              "Mines        0.009342\n",
              "Coal         0.010331\n",
              "Oil          0.010060\n",
              "Portfolio    0.009911\n",
              "dtype: float64"
            ]
          },
          "metadata": {},
          "execution_count": 133
        }
      ]
    },
    {
      "cell_type": "code",
      "source": [
        "mean_monthly_returns.head()"
      ],
      "metadata": {
        "colab": {
          "base_uri": "https://localhost:8080/"
        },
        "id": "xhrh60mPoW_U",
        "outputId": "0ef4f652-29ad-4edc-81c6-0d8bec3ff129"
      },
      "execution_count": 134,
      "outputs": [
        {
          "output_type": "execute_result",
          "data": {
            "text/plain": [
              "Mines        0.009342\n",
              "Coal         0.010331\n",
              "Oil          0.010060\n",
              "Portfolio    0.009911\n",
              "dtype: float64"
            ]
          },
          "metadata": {},
          "execution_count": 134
        }
      ]
    },
    {
      "cell_type": "code",
      "source": [
        "monthly_cummulative_return=(1+mean_monthly_returns).cumprod()"
      ],
      "metadata": {
        "id": "5OzoEU5kocEV"
      },
      "execution_count": 135,
      "outputs": []
    },
    {
      "cell_type": "code",
      "source": [
        "print (monthly_cummulative_return)"
      ],
      "metadata": {
        "colab": {
          "base_uri": "https://localhost:8080/"
        },
        "id": "IMRQuQcJovo8",
        "outputId": "35a1d021-f81c-47a7-826e-e9817c04f94b"
      },
      "execution_count": 136,
      "outputs": [
        {
          "output_type": "stream",
          "name": "stdout",
          "text": [
            "Mines        1.009342\n",
            "Coal         1.019769\n",
            "Oil          1.030028\n",
            "Portfolio    1.040237\n",
            "dtype: float64\n"
          ]
        }
      ]
    },
    {
      "cell_type": "code",
      "source": [
        "n_months_MCO=monthly_cummulative_return.shape[0]"
      ],
      "metadata": {
        "id": "ZFSxUHwso1qF"
      },
      "execution_count": 139,
      "outputs": []
    },
    {
      "cell_type": "code",
      "source": [
        "annu_ret_port=(1+mean_monthly_returns).cumprod()**(12/n_months_MCO)-1"
      ],
      "metadata": {
        "id": "tfoIFSgvq1qw"
      },
      "execution_count": 142,
      "outputs": []
    },
    {
      "cell_type": "code",
      "source": [
        "print (annu_ret_port)"
      ],
      "metadata": {
        "colab": {
          "base_uri": "https://localhost:8080/"
        },
        "id": "xGPZnHYOrJUn",
        "outputId": "3cc0a390-17bc-4ae6-f0fd-8997c7ca9460"
      },
      "execution_count": 143,
      "outputs": [
        {
          "output_type": "stream",
          "name": "stdout",
          "text": [
            "Mines        0.028287\n",
            "Coal         0.060488\n",
            "Oil          0.092816\n",
            "Portfolio    0.125632\n",
            "dtype: float64\n"
          ]
        }
      ]
    },
    {
      "cell_type": "code",
      "source": [
        "sharpe_ratio_portfolio=(annu_ret_port-risk_free_rate)/portfolio_volatility"
      ],
      "metadata": {
        "id": "XiTdS22brW7x"
      },
      "execution_count": 144,
      "outputs": []
    },
    {
      "cell_type": "code",
      "source": [
        "sharpe_ratio_portfolio"
      ],
      "metadata": {
        "colab": {
          "base_uri": "https://localhost:8080/"
        },
        "id": "Ww_1e7Bdsx0r",
        "outputId": "88c0ce0b-362f-4336-dc02-0e8b25625b14"
      },
      "execution_count": 145,
      "outputs": [
        {
          "output_type": "execute_result",
          "data": {
            "text/plain": [
              "Mines        0.034076\n",
              "Coal         0.166481\n",
              "Oil          0.299411\n",
              "Portfolio    0.434344\n",
              "dtype: float64"
            ]
          },
          "metadata": {},
          "execution_count": 145
        }
      ]
    },
    {
      "cell_type": "code",
      "source": [
        "wealth_index_portfolio=100*(1+annu_ret_port).cumprod()"
      ],
      "metadata": {
        "id": "Vkcox2V4s0yP"
      },
      "execution_count": 146,
      "outputs": []
    },
    {
      "cell_type": "code",
      "source": [
        "wealth_index_portfolio.plot.line()"
      ],
      "metadata": {
        "colab": {
          "base_uri": "https://localhost:8080/",
          "height": 282
        },
        "id": "sfzSyOUxtkMH",
        "outputId": "b409d74d-883f-40d4-afdf-7b17761523c4"
      },
      "execution_count": 147,
      "outputs": [
        {
          "output_type": "execute_result",
          "data": {
            "text/plain": [
              "<matplotlib.axes._subplots.AxesSubplot at 0x7fccfb9d2a50>"
            ]
          },
          "metadata": {},
          "execution_count": 147
        },
        {
          "output_type": "display_data",
          "data": {
            "image/png": "[encoded data removed]",
            "text/plain": [
              "<Figure size 432x288 with 1 Axes>"
            ]
          },
          "metadata": {
            "needs_background": "light"
          }
        }
      ]
    },
    {
      "cell_type": "code",
      "source": [
        ""
      ],
      "metadata": {
        "id": "xBnGw1W-uALN"
      },
      "execution_count": null,
      "outputs": []
    }
  ]
}